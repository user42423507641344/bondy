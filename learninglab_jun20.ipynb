{
  "nbformat": 4,
  "nbformat_minor": 0,
  "metadata": {
    "colab": {
      "provenance": [],
      "authorship_tag": "ABX9TyNlH5BL+U2VBMFay4xYUl3A",
      "include_colab_link": true
    },
    "kernelspec": {
      "name": "python3",
      "display_name": "Python 3"
    },
    "language_info": {
      "name": "python"
    }
  },
  "cells": [
    {
      "cell_type": "markdown",
      "metadata": {
        "id": "view-in-github",
        "colab_type": "text"
      },
      "source": [
        "<a href=\"https://colab.research.google.com/github/user42423507641344/bondy/blob/main/learninglab_jun20.ipynb\" target=\"_parent\"><img src=\"https://colab.research.google.com/assets/colab-badge.svg\" alt=\"Open In Colab\"/></a>"
      ]
    },
    {
      "cell_type": "code",
      "execution_count": null,
      "metadata": {
        "id": "Mrypg5mTgeYE"
      },
      "outputs": [],
      "source": [
        "# lab June 20th"
      ]
    },
    {
      "cell_type": "code",
      "source": [
        "First_name = 'bondy'\n",
        "Last_Name = 'saren'\n",
        "Age = 17\n",
        "Fav_Colour = 'Gray'\n",
        "Fav_Sport = 'basketball'\n",
        "Fav_Team = 'warriors'"
      ],
      "metadata": {
        "id": "bWKhUiLIgk4A"
      },
      "execution_count": 2,
      "outputs": []
    },
    {
      "cell_type": "code",
      "source": [
        "First_name = input('What is your first name?')\n",
        "# In this line I am using the input method to ask the user's first name\n",
        "\n",
        "Last_Name = input('What is your last name?')\n",
        "# TODO: in this line i am using the input method to ask the user's last name\n",
        "Age = input('What is your age?')\n",
        "# TODO: in this line i am using the input method to ask the user's age\n",
        "Fav_Colour = input('What is your favourite colour?')\n",
        "# TODO: in this line i am using the input method to ask the user's favourite color\n",
        "Fav_Sport = input('What is your favourite sport?')\n",
        "# TODO: in this line i am using the input method to ask the user's favourite sport\n",
        "Fav_Team = input('What is your favourite team?')\n",
        "# TODO: in this line i am using the input method to ask the user's favourite team"
      ],
      "metadata": {
        "colab": {
          "base_uri": "https://localhost:8080/"
        },
        "id": "4TigsAT_g0y3",
        "outputId": "7737638e-4934-4644-c8dd-6bbed06f09a1"
      },
      "execution_count": 1,
      "outputs": [
        {
          "name": "stdout",
          "output_type": "stream",
          "text": [
            "What is your first name?bondy\n",
            "What is your last name?saren\n",
            "What is your age?17\n",
            "What is your favourite colour?grey\n",
            "What is your favourite sport?basketball\n",
            "What is your favourite team?warriors\n"
          ]
        }
      ]
    },
    {
      "cell_type": "code",
      "source": [
        "First_name = input(\"what is your first name ?\")\n",
        "First_name = input(\"what is your first name ?\")"
      ],
      "metadata": {
        "colab": {
          "base_uri": "https://localhost:8080/"
        },
        "id": "RkUiuIvIhLn9",
        "outputId": "411693ca-742f-44fb-9962-1fb596939e2a"
      },
      "execution_count": 3,
      "outputs": [
        {
          "name": "stdout",
          "output_type": "stream",
          "text": [
            "what is your first name ?bondy\n",
            "what is your first name ?bondy\n"
          ]
        }
      ]
    },
    {
      "cell_type": "code",
      "source": [
        "print(f\"User first name is, {First_name}, last name is, {Last_Name}, age is, {Age},\\\n",
        " favourite colour is, {Fav_Colour}, favourite sport is, {Fav_Sport}, favourite team is, {Fav_Team}\")"
      ],
      "metadata": {
        "colab": {
          "base_uri": "https://localhost:8080/"
        },
        "id": "o4rB4JthiZ6i",
        "outputId": "e7fbe3cb-3921-46f5-8544-fa3cd27d03de"
      },
      "execution_count": 4,
      "outputs": [
        {
          "output_type": "stream",
          "name": "stdout",
          "text": [
            "User first name is, bondy, last name is, saren, age is, 17, favourite colour is, Gray, favourite sport is, basketball, favourite team is, warriors\n"
          ]
        }
      ]
    }
  ]
}