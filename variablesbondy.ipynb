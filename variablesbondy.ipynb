{
  "nbformat": 4,
  "nbformat_minor": 0,
  "metadata": {
    "colab": {
      "provenance": [],
      "authorship_tag": "ABX9TyNlrZwj3azhuTu2H8R1M9gB",
      "include_colab_link": true
    },
    "kernelspec": {
      "name": "python3",
      "display_name": "Python 3"
    },
    "language_info": {
      "name": "python"
    }
  },
  "cells": [
    {
      "cell_type": "markdown",
      "metadata": {
        "id": "view-in-github",
        "colab_type": "text"
      },
      "source": [
        "<a href=\"https://colab.research.google.com/github/user42423507641344/bondy/blob/main/variablesbondy.ipynb\" target=\"_parent\"><img src=\"https://colab.research.google.com/assets/colab-badge.svg\" alt=\"Open In Colab\"/></a>"
      ]
    },
    {
      "cell_type": "code",
      "execution_count": 1,
      "metadata": {
        "colab": {
          "base_uri": "https://localhost:8080/"
        },
        "id": "7YV6ugHrHoyz",
        "outputId": "82933f98-669a-4b76-b691-a559ce28b8ee"
      },
      "outputs": [
        {
          "output_type": "execute_result",
          "data": {
            "text/plain": [
              "1100"
            ]
          },
          "metadata": {},
          "execution_count": 1
        }
      ],
      "source": [
        "# how to create and print variablestime = 350print(time)print(time)print(time)level = 1score = 1100print(level)print(score)\n",
        "\n",
        "350\n",
        "350\n",
        "350\n",
        "1\n",
        "1100"
      ]
    },
    {
      "cell_type": "markdown",
      "source": [],
      "metadata": {
        "id": "IYSjUc4LIKTv"
      }
    },
    {
      "cell_type": "code",
      "source": [
        "# variable reassignment\n",
        "time = 350\n",
        "print(time)\n",
        "time = 500\n",
        "print(time)\n",
        "print(time)\n",
        "print(time)\n",
        "time = 700\n",
        "time = 900\n",
        "print(time)\n",
        "\n",
        "# variable reassigned to variable\n",
        "start = 0\n",
        "end = 1000\n",
        "time = end\n",
        "print(time)\n",
        "print(end)\n",
        "time = start\n",
        "print(time)\n",
        "print(start)"
      ],
      "metadata": {
        "colab": {
          "base_uri": "https://localhost:8080/"
        },
        "id": "Nrs1JrM7JGpw",
        "outputId": "b1186d5d-e360-479f-ff32-181cebe466d2"
      },
      "execution_count": 2,
      "outputs": [
        {
          "output_type": "stream",
          "name": "stdout",
          "text": [
            "350\n",
            "500\n",
            "500\n",
            "500\n",
            "900\n",
            "1000\n",
            "1000\n",
            "0\n",
            "0\n"
          ]
        }
      ]
    },
    {
      "cell_type": "code",
      "source": [
        "# variable names with snake case & data types\n",
        "# Note - capitalization matters!\n",
        "# undefined means Python doesn't know what an object\n",
        "\n",
        "bondy_age = 17\n",
        "print(type(bondy_age))\n",
        "\n",
        "delicious_in_dungeoun_rating = 4.5\n",
        "print(type(delicious_in_dungeoun_rating))\n",
        "\n",
        "my_name = \"bondy\"\n",
        "my_name_single_quotes = 'bondy'\n",
        "print(my_name)\n",
        "print(type(my_name))\n",
        "\n",
        "print(my_name_single_quotes)\n",
        "print(type(my_name_single_quotes))\n",
        "\n",
        "today_is_a_great_day = True\n",
        "print(today_is_a_great_day)\n",
        "print(type(today_is_a_great_day))\n",
        "\n",
        "the_sky_is_red = False\n",
        "print(the_sky_is_red)\n",
        "print(type(the_sky_is_red))\n",
        "\n",
        "\n",
        "\n",
        "\n"
      ],
      "metadata": {
        "colab": {
          "base_uri": "https://localhost:8080/"
        },
        "id": "Lt8fy1j9JWwX",
        "outputId": "9647b5a6-7527-491d-bf8e-866ef0f172d0"
      },
      "execution_count": 3,
      "outputs": [
        {
          "output_type": "stream",
          "name": "stdout",
          "text": [
            "<class 'int'>\n",
            "<class 'float'>\n",
            "bondy\n",
            "<class 'str'>\n",
            "bondy\n",
            "<class 'str'>\n",
            "True\n",
            "<class 'bool'>\n",
            "False\n",
            "<class 'bool'>\n"
          ]
        }
      ]
    },
    {
      "cell_type": "code",
      "source": [
        "my_name = \"bondy\"\n",
        "my_age = 17\n",
        "my_hobby = \"sports_betting\"\n",
        "my_identity = \"cambodian\""
      ],
      "metadata": {
        "id": "ZhMQmP6oJd0N"
      },
      "execution_count": 5,
      "outputs": []
    }
  ]
}